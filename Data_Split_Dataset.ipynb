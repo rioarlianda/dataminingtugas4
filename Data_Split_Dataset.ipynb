{
 "cells": [
  {
   "cell_type": "code",
   "execution_count": null,
   "id": "1fbf212b",
   "metadata": {},
   "outputs": [],
   "source": [
    "# Data Training\n",
    "train_data"
   ]
  },
  {
   "cell_type": "code",
   "execution_count": null,
   "id": "48c7fd6e",
   "metadata": {},
   "outputs": [],
   "source": [
    "# Data Validasi\n",
    "val_data"
   ]
  },
  {
   "cell_type": "code",
   "execution_count": null,
   "id": "94d4e4d4",
   "metadata": {},
   "outputs": [],
   "source": [
    "# Data Testing\n",
    "test_data"
   ]
  }
 ],
 "metadata": {},
 "nbformat": 4,
 "nbformat_minor": 5
}
